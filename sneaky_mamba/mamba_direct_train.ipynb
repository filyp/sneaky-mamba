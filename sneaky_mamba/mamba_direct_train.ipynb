{
 "cells": [
  {
   "cell_type": "code",
   "execution_count": null,
   "id": "ea2eb5e3-df51-42f6-98c2-e4a016e443b5",
   "metadata": {},
   "outputs": [],
   "source": [
    "import os\n",
    "import torch\n",
    "import numpy as np\n",
    "from mamba_ssm.models.mixer_seq_simple import MambaLMHeadModel\n",
    "from transformers import AutoTokenizer, TrainingArguments, Trainer\n",
    "\n",
    "from generation import DirectTasksDataset, test_tokenization\n",
    "from train_helpers import DirectReasoningTrainer, get_accuracy_bar, Curriculum\n",
    "\n",
    "os.environ[\"TOKENIZERS_PARALLELISM\"] = \"true\"\n",
    "\n",
    "model = MambaLMHeadModel.from_pretrained(\"state-spaces/mamba-130m\", dtype=torch.bfloat16, device=\"cuda\")\n",
    "tokenizer = AutoTokenizer.from_pretrained(\"EleutherAI/gpt-neox-20b\")\n",
    "tokenizer.eos_token = \"<|endoftext|>\"\n",
    "tokenizer.pad_token = tokenizer.eos_token\n",
    "test_tokenization(tokenizer)"
   ]
  },
  {
   "cell_type": "code",
   "execution_count": null,
   "id": "df7d425f",
   "metadata": {},
   "outputs": [],
   "source": [
    "# use only the first few layers out of 24\n",
    "model._modules[\"backbone\"].layers = model._modules[\"backbone\"].layers[:4]"
   ]
  },
  {
   "cell_type": "code",
   "execution_count": null,
   "id": "c5f684f2",
   "metadata": {},
   "outputs": [],
   "source": [
    "def evaluate_example(model, ex):\n",
    "    input_ids = ex[\"input_ids\"].reshape(1, -1).to(\"cuda\")\n",
    "    labels = ex[\"labels\"].to(\"cuda\")\n",
    "    logits = model(input_ids=input_ids).logits\n",
    "    output_ids = logits.argmax(axis=2).flatten()\n",
    "    # tokenizer.decode(output_ids.flatten())\n",
    "    return all(labels == output_ids)"
   ]
  },
  {
   "cell_type": "code",
   "execution_count": null,
   "id": "7d1b0806-bc08-4c14-b5b1-0043a6007bc2",
   "metadata": {},
   "outputs": [],
   "source": [
    "trainer = DirectReasoningTrainer(\n",
    "    model=model,\n",
    "    tokenizer=tokenizer,\n",
    "    args=TrainingArguments(\n",
    "        disable_tqdm=True,  # This disables the progress bars\n",
    "        learning_rate=5e-4,\n",
    "        num_train_epochs=1,\n",
    "        per_device_train_batch_size=16,\n",
    "        gradient_accumulation_steps=1,\n",
    "        dataloader_num_workers=2,\n",
    "        optim=\"adamw_torch\",\n",
    "        output_dir=\"out\",\n",
    "        weight_decay=1e-2,\n",
    "        # otherwise transformers will remove \"labels\" item for some reason\n",
    "        remove_unused_columns=False,\n",
    "    ),\n",
    ")\n",
    "trainer.answer_token = tokenizer.encode(\"\\n\")[0]\n",
    "# disable log printing\n",
    "trainer.log = lambda logs: None\n",
    "\n",
    "curriculum = Curriculum()\n",
    "total_examples = 0\n",
    "while True:\n",
    "    task_lenghts = curriculum.sample_indexes(128)\n",
    "    trainer.train_dataset = DirectTasksDataset(tokenizer, task_lenghts)\n",
    "    total_examples += len(trainer.train_dataset)\n",
    "    trainer.train()\n",
    "\n",
    "    # for each steps length, check whether model answers correctly\n",
    "    task_steps_limit = len(curriculum.avg_scores)\n",
    "    task_lenghts = list(range(task_steps_limit))\n",
    "    eval_dataset = DirectTasksDataset(tokenizer, task_lenghts)\n",
    "    scores = [evaluate_example(model, ex) for ex in eval_dataset]\n",
    "    curriculum.update_scores(scores)\n",
    "    print(\n",
    "        f\"{total_examples:9}  seq.len.: {task_steps_limit:3}  \"\n",
    "        + get_accuracy_bar(scores)\n",
    "    )\n",
    "\n",
    "    if np.mean(scores) > 0.9:\n",
    "        # all answers were correct, so increase difficulty level\n",
    "        curriculum.increment_limit()"
   ]
  },
  {
   "cell_type": "code",
   "execution_count": null,
   "id": "88568885",
   "metadata": {},
   "outputs": [],
   "source": []
  }
 ],
 "metadata": {
  "kernelspec": {
   "display_name": "Python 3 (ipykernel)",
   "language": "python",
   "name": "python3"
  },
  "language_info": {
   "codemirror_mode": {
    "name": "ipython",
    "version": 3
   },
   "file_extension": ".py",
   "mimetype": "text/x-python",
   "name": "python",
   "nbconvert_exporter": "python",
   "pygments_lexer": "ipython3",
   "version": "3.11.6"
  }
 },
 "nbformat": 4,
 "nbformat_minor": 5
}
