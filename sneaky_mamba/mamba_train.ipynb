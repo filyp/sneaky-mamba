{
 "cells": [
  {
   "cell_type": "code",
   "execution_count": null,
   "id": "ea2eb5e3-df51-42f6-98c2-e4a016e443b5",
   "metadata": {},
   "outputs": [],
   "source": [
    "import os\n",
    "import torch\n",
    "import numpy as np\n",
    "from mamba_ssm.models.mixer_seq_simple import MambaLMHeadModel\n",
    "from transformers import AutoTokenizer, TrainingArguments, Trainer\n",
    "\n",
    "from generation import TasksDataset, test_tokenization\n",
    "from train_helpers import ReasoningTrainer\n",
    "\n",
    "os.environ[\"TOKENIZERS_PARALLELISM\"] = \"true\"\n",
    "\n",
    "model = MambaLMHeadModel.from_pretrained(\"state-spaces/mamba-130m\", dtype=torch.bfloat16, device=\"cuda\")\n",
    "tokenizer = AutoTokenizer.from_pretrained(\"EleutherAI/gpt-neox-20b\")\n",
    "tokenizer.eos_token = \"<|endoftext|>\"\n",
    "tokenizer.pad_token = tokenizer.eos_token\n",
    "test_tokenization(tokenizer)"
   ]
  },
  {
   "cell_type": "code",
   "execution_count": null,
   "id": "df7d425f",
   "metadata": {},
   "outputs": [],
   "source": [
    "# use only the first few layers out of 24\n",
    "model._modules[\"backbone\"].layers = model._modules[\"backbone\"].layers[:6]"
   ]
  },
  {
   "cell_type": "code",
   "execution_count": null,
   "id": "57ec702a",
   "metadata": {},
   "outputs": [],
   "source": [
    "def evaluate_example(model, ex):\n",
    "    target_output = torch.cat([ex[\"task_ids\"], ex[\"reasoning_ids\"]]).to(\"cuda\")\n",
    "    out = model.generate(\n",
    "        input_ids=ex[\"task_ids\"].reshape(1, -1).to(\"cuda\"),\n",
    "        max_length=len(target_output),\n",
    "        cg=True,\n",
    "        temperature=1,\n",
    "    )\n",
    "    correct = all(out[0] == target_output)\n",
    "    return correct\n",
    "\n",
    "\n",
    "def eval_correctness(model, dataset):\n",
    "    return np.mean([evaluate_example(model, ex) for ex in dataset])"
   ]
  },
  {
   "cell_type": "code",
   "execution_count": null,
   "id": "7d1b0806-bc08-4c14-b5b1-0043a6007bc2",
   "metadata": {},
   "outputs": [],
   "source": [
    "task_steps_limit = 1\n",
    "\n",
    "trainer = ReasoningTrainer(\n",
    "    model=model,\n",
    "    tokenizer=tokenizer,\n",
    "    args=TrainingArguments(\n",
    "        disable_tqdm=True,  # This disables the progress bars\n",
    "        learning_rate=5e-4,\n",
    "        num_train_epochs=1,\n",
    "        per_device_train_batch_size=16,\n",
    "        gradient_accumulation_steps=1,\n",
    "        dataloader_num_workers=2,\n",
    "        optim=\"adamw_torch\",\n",
    "        output_dir=\"out\",\n",
    "        weight_decay=1e-2,\n",
    "        # logging_steps=10,\n",
    "        # save_strategy=\"epoch\"\n",
    "    ),\n",
    ")\n",
    "trainer.answer_token = tokenizer.encode(\"\\n\")[0]\n",
    "# disable log printing\n",
    "trainer.log = lambda logs: None\n",
    "\n",
    "total_examples = 0\n",
    "while True:\n",
    "    _num_examples_per_num_steps = [(ns, 16) for ns in range(1, task_steps_limit + 1)]\n",
    "    trainer.train_dataset = TasksDataset(tokenizer, _num_examples_per_num_steps)\n",
    "    total_examples += 16 * task_steps_limit\n",
    "    trainer.train()\n",
    "\n",
    "    # for each steps length, check whether model answers correctly\n",
    "    _num_examples_per_num_steps = [(ns, 1) for ns in range(1, task_steps_limit + 1)]\n",
    "    eval_dataset = TasksDataset(tokenizer, _num_examples_per_num_steps)\n",
    "    scores = [evaluate_example(model, ex) for ex in eval_dataset]\n",
    "    # create accuracy bar\n",
    "    accuracy_bar = \"\"\n",
    "    unmasked, masked = scores[:len(scores)//2], scores[len(scores)//2:]\n",
    "    for group in [unmasked, masked]:\n",
    "        accuracy_bar += \"«\"\n",
    "        for score in group:\n",
    "            if score:\n",
    "                accuracy_bar += \"█\"\n",
    "            else:\n",
    "                accuracy_bar += \" \"\n",
    "        accuracy_bar += \"»\"\n",
    "\n",
    "    print(f\"{total_examples:9}  seq.len.: {task_steps_limit:3}  \" + accuracy_bar)\n",
    "    \n",
    "    if all(scores):\n",
    "        # all answers were correct, so increase difficulty level\n",
    "        task_steps_limit += 1\n",
    "    if total_examples > 1000000:\n",
    "        break"
   ]
  },
  {
   "cell_type": "code",
   "execution_count": null,
   "id": "e90a9f21",
   "metadata": {},
   "outputs": [],
   "source": []
  },
  {
   "cell_type": "code",
   "execution_count": null,
   "id": "b0cce95e",
   "metadata": {},
   "outputs": [],
   "source": [
    "nienien"
   ]
  }
 ],
 "metadata": {
  "kernelspec": {
   "display_name": "Python 3 (ipykernel)",
   "language": "python",
   "name": "python3"
  },
  "language_info": {
   "codemirror_mode": {
    "name": "ipython",
    "version": 3
   },
   "file_extension": ".py",
   "mimetype": "text/x-python",
   "name": "python",
   "nbconvert_exporter": "python",
   "pygments_lexer": "ipython3",
   "version": "3.8.18"
  }
 },
 "nbformat": 4,
 "nbformat_minor": 5
}
