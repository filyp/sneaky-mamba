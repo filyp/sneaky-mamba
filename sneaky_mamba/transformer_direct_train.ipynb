{
 "cells": [
  {
   "cell_type": "code",
   "execution_count": 1,
   "id": "ea2eb5e3-df51-42f6-98c2-e4a016e443b5",
   "metadata": {},
   "outputs": [
    {
     "data": {
      "application/vnd.jupyter.widget-view+json": {
       "model_id": "6971fe18f6a34dc1969a7b4496e32487",
       "version_major": 2,
       "version_minor": 0
      },
      "text/plain": [
       "config.json:   0%|          | 0.00/665 [00:00<?, ?B/s]"
      ]
     },
     "metadata": {},
     "output_type": "display_data"
    },
    {
     "data": {
      "application/vnd.jupyter.widget-view+json": {
       "model_id": "2f51ba8fd1704d5382db16ab2fd25b24",
       "version_major": 2,
       "version_minor": 0
      },
      "text/plain": [
       "model.safetensors:   0%|          | 0.00/548M [00:00<?, ?B/s]"
      ]
     },
     "metadata": {},
     "output_type": "display_data"
    },
    {
     "data": {
      "application/vnd.jupyter.widget-view+json": {
       "model_id": "4ca81256e2934e7da441ffd7b8cfd343",
       "version_major": 2,
       "version_minor": 0
      },
      "text/plain": [
       "generation_config.json:   0%|          | 0.00/124 [00:00<?, ?B/s]"
      ]
     },
     "metadata": {},
     "output_type": "display_data"
    },
    {
     "data": {
      "application/vnd.jupyter.widget-view+json": {
       "model_id": "c049df22d80e4c81917f2fe453140ce2",
       "version_major": 2,
       "version_minor": 0
      },
      "text/plain": [
       "vocab.json:   0%|          | 0.00/1.04M [00:00<?, ?B/s]"
      ]
     },
     "metadata": {},
     "output_type": "display_data"
    },
    {
     "data": {
      "application/vnd.jupyter.widget-view+json": {
       "model_id": "aba533fd84b14ea7a2dfbe186cc03090",
       "version_major": 2,
       "version_minor": 0
      },
      "text/plain": [
       "merges.txt:   0%|          | 0.00/456k [00:00<?, ?B/s]"
      ]
     },
     "metadata": {},
     "output_type": "display_data"
    },
    {
     "data": {
      "application/vnd.jupyter.widget-view+json": {
       "model_id": "e67370dea22a474db2915067f1ab7724",
       "version_major": 2,
       "version_minor": 0
      },
      "text/plain": [
       "tokenizer.json:   0%|          | 0.00/1.36M [00:00<?, ?B/s]"
      ]
     },
     "metadata": {},
     "output_type": "display_data"
    }
   ],
   "source": [
    "import os\n",
    "import torch\n",
    "import numpy as np\n",
    "from transformers import TrainingArguments, GPT2Tokenizer, GPT2LMHeadModel\n",
    "\n",
    "from generation import DirectTasksDataset, test_tokenization\n",
    "from train_helpers import DirectReasoningTrainer, get_accuracy_bar, Curriculum\n",
    "\n",
    "os.environ[\"TOKENIZERS_PARALLELISM\"] = \"true\"\n",
    "\n",
    "model = GPT2LMHeadModel.from_pretrained('gpt2').to(\"cuda\")\n",
    "tokenizer = GPT2Tokenizer.from_pretrained('gpt2')\n",
    "\n",
    "tokenizer.eos_token = \"<|endoftext|>\"\n",
    "tokenizer.pad_token = tokenizer.eos_token\n",
    "test_tokenization(tokenizer)"
   ]
  },
  {
   "cell_type": "code",
   "execution_count": 2,
   "id": "88b05c94",
   "metadata": {},
   "outputs": [],
   "source": [
    "# use only the first few layers out of 12\n",
    "model._modules[\"transformer\"]._modules[\"h\"] = model._modules[\"transformer\"]._modules[\"h\"][:3]"
   ]
  },
  {
   "cell_type": "code",
   "execution_count": 3,
   "id": "57ec702a",
   "metadata": {},
   "outputs": [],
   "source": [
    "def evaluate_example(model, ex):\n",
    "    input_ids = ex[\"input_ids\"].reshape(1, -1).to(\"cuda\")\n",
    "    attention_mask=ex[\"attention_mask\"].reshape(1, -1).to(\"cuda\")\n",
    "    labels = ex[\"labels\"].to(\"cuda\")\n",
    "    logits = model(input_ids=input_ids).logits\n",
    "    output_ids = logits.argmax(axis=2).flatten()\n",
    "    # tokenizer.decode(output_ids.flatten())\n",
    "    return all(labels == output_ids)"
   ]
  },
  {
   "cell_type": "code",
   "execution_count": 4,
   "id": "7d1b0806-bc08-4c14-b5b1-0043a6007bc2",
   "metadata": {},
   "outputs": [
    {
     "name": "stderr",
     "output_type": "stream",
     "text": [
      "Detected kernel version 5.4.0, which is below the recommended minimum of 5.5.0; this can cause the process to hang. It is recommended to upgrade the kernel to the minimum version or higher.\n"
     ]
    },
    {
     "name": "stdout",
     "output_type": "stream",
     "text": [
      "      128  seq.len.:   1  « »\n",
      "      256  seq.len.:   1  «█»\n",
      "      384  seq.len.:   2  « █»\n",
      "      512  seq.len.:   2  «██»\n",
      "      640  seq.len.:   3  «██ »\n",
      "      768  seq.len.:   3  «███»\n",
      "      896  seq.len.:   4  «██  »\n",
      "     1024  seq.len.:   4  «███ »\n",
      "     1152  seq.len.:   4  «███ »\n",
      "     1280  seq.len.:   4  «███ »\n",
      "     1408  seq.len.:   4  «███ »\n",
      "     1536  seq.len.:   4  «████»\n",
      "     1664  seq.len.:   5  «████ »\n",
      "     1792  seq.len.:   5  «████ »\n",
      "     1920  seq.len.:   5  «███  »\n",
      "     2048  seq.len.:   5  «█ ██ »\n",
      "     2176  seq.len.:   5  «████ »\n",
      "     2304  seq.len.:   5  «██ █ »\n",
      "     2432  seq.len.:   5  «████ »\n",
      "     2560  seq.len.:   5  «███  »\n",
      "     2688  seq.len.:   5  «█████»\n",
      "     2816  seq.len.:   6  «████  »\n",
      "     2944  seq.len.:   6  «█████ »\n",
      "     3072  seq.len.:   6  «█████ »\n",
      "     3200  seq.len.:   6  «█████ »\n",
      "     3328  seq.len.:   6  «█████ »\n",
      "     3456  seq.len.:   6  «████ █»\n",
      "     3584  seq.len.:   6  «████  »\n",
      "     3712  seq.len.:   6  «█████ »\n",
      "     3840  seq.len.:   6  «████  »\n",
      "     3968  seq.len.:   6  «██████»\n",
      "     4096  seq.len.:   7  «██████ »\n",
      "     4224  seq.len.:   7  «██████ »\n",
      "     4352  seq.len.:   7  «█████ █»\n",
      "     4480  seq.len.:   7  «█████  »\n",
      "     4608  seq.len.:   7  «█████  »\n",
      "     4736  seq.len.:   7  «██████ »\n",
      "     4864  seq.len.:   7  «██████ »\n",
      "     4992  seq.len.:   7  «█████ █»\n",
      "     5120  seq.len.:   7  «██████ »\n",
      "     5248  seq.len.:   7  «██████ »\n",
      "     5376  seq.len.:   7  «██████ »\n",
      "     5504  seq.len.:   7  «██████ »\n",
      "     5632  seq.len.:   7  «██████ »\n",
      "     5760  seq.len.:   7  «██████ »\n",
      "     5888  seq.len.:   7  «██████ »\n",
      "     6016  seq.len.:   7  «█████ █»\n",
      "     6144  seq.len.:   7  «██████ »\n",
      "     6272  seq.len.:   7  «█████  »\n",
      "     6400  seq.len.:   7  «██████ »\n",
      "     6528  seq.len.:   7  «██████ »\n",
      "     6656  seq.len.:   7  «██████ »\n",
      "     6784  seq.len.:   7  «██████ »\n",
      "     6912  seq.len.:   7  «██████ »\n",
      "     7040  seq.len.:   7  «██████ »\n",
      "     7168  seq.len.:   7  «██████ »\n",
      "     7296  seq.len.:   7  «██████ »\n",
      "     7424  seq.len.:   7  «██████ »\n"
     ]
    }
   ],
   "source": [
    "task_steps_limit = 1\n",
    "\n",
    "trainer = DirectReasoningTrainer(\n",
    "    model=model,\n",
    "    tokenizer=tokenizer,\n",
    "    args=TrainingArguments(\n",
    "        disable_tqdm=True,  # This disables the progress bars\n",
    "        learning_rate=5e-4,\n",
    "        num_train_epochs=1,\n",
    "        per_device_train_batch_size=16,\n",
    "        gradient_accumulation_steps=1,\n",
    "        dataloader_num_workers=2,\n",
    "        optim=\"adamw_torch\",\n",
    "        output_dir=\"out\",\n",
    "        weight_decay=1e-2,\n",
    "    ),\n",
    ")\n",
    "trainer.answer_token = tokenizer.encode(\"\\n\")[0]\n",
    "# disable log printing\n",
    "trainer.log = lambda logs: None\n",
    "\n",
    "curriculum = Curriculum()\n",
    "total_examples = 0\n",
    "while True:\n",
    "    task_lenghts = curriculum.sample_indexes(128)\n",
    "    trainer.train_dataset = DirectTasksDataset(tokenizer, task_lenghts)\n",
    "    total_examples += len(trainer.train_dataset)\n",
    "    trainer.train()\n",
    "\n",
    "    # for each steps length, check whether model answers correctly\n",
    "    task_steps_limit = len(curriculum.avg_scores)\n",
    "    task_lenghts = list(range(task_steps_limit))\n",
    "    eval_dataset = DirectTasksDataset(tokenizer, task_lenghts)\n",
    "    scores = [evaluate_example(model, ex) for ex in eval_dataset]\n",
    "    curriculum.update_scores(scores)\n",
    "    print(\n",
    "        f\"{total_examples:9}  seq.len.: {task_steps_limit:3}  \"\n",
    "        + get_accuracy_bar(scores)\n",
    "    )\n",
    "\n",
    "    if np.mean(scores) > 0.9:\n",
    "        # all answers were correct, so increase difficulty level\n",
    "        curriculum.increment_limit()"
   ]
  },
  {
   "cell_type": "code",
   "execution_count": null,
   "metadata": {},
   "outputs": [],
   "source": []
  }
 ],
 "metadata": {
  "kernelspec": {
   "display_name": "Python 3 (ipykernel)",
   "language": "python",
   "name": "python3"
  },
  "language_info": {
   "codemirror_mode": {
    "name": "ipython",
    "version": 3
   },
   "file_extension": ".py",
   "mimetype": "text/x-python",
   "name": "python",
   "nbconvert_exporter": "python",
   "pygments_lexer": "ipython3",
   "version": "3.8.18"
  }
 },
 "nbformat": 4,
 "nbformat_minor": 5
}
