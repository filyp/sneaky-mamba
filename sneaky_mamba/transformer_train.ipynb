{
 "cells": [
  {
   "cell_type": "code",
   "execution_count": null,
   "id": "ea2eb5e3-df51-42f6-98c2-e4a016e443b5",
   "metadata": {},
   "outputs": [],
   "source": [
    "import os\n",
    "import torch\n",
    "import numpy as np\n",
    "from transformers import TrainingArguments, Trainer, GPT2Tokenizer, GPT2LMHeadModel\n",
    "\n",
    "from generation import TasksDataset, test_tokenization\n",
    "from train_helpers import ReasoningTrainer, get_accuracy_bar,Curriculum\n",
    "\n",
    "os.environ[\"TOKENIZERS_PARALLELISM\"] = \"true\"\n",
    "\n",
    "model = GPT2LMHeadModel.from_pretrained('gpt2').to(\"cuda\")\n",
    "tokenizer = GPT2Tokenizer.from_pretrained('gpt2')\n",
    "\n",
    "tokenizer.eos_token = \"<|endoftext|>\"\n",
    "tokenizer.pad_token = tokenizer.eos_token\n",
    "test_tokenization(tokenizer)"
   ]
  },
  {
   "cell_type": "code",
   "execution_count": null,
   "id": "88b05c94",
   "metadata": {},
   "outputs": [],
   "source": [
    "# use only the first few layers out of 12\n",
    "model._modules[\"transformer\"]._modules[\"h\"] = model._modules[\"transformer\"]._modules[\"h\"][:3]"
   ]
  },
  {
   "cell_type": "code",
   "execution_count": null,
   "id": "57ec702a",
   "metadata": {},
   "outputs": [],
   "source": [
    "def evaluate_example(model, ex):\n",
    "    target_output = torch.cat([ex[\"task_ids\"], ex[\"reasoning_ids\"]]).to(\"cuda\")\n",
    "    task_len = len(ex[\"task_ids\"])\n",
    "    out = model.generate(\n",
    "        input_ids=ex[\"task_ids\"].reshape(1, -1).to(\"cuda\"),\n",
    "        attention_mask=ex[\"attention_mask\"][:task_len].reshape(1, -1).to(\"cuda\"),\n",
    "        max_length=len(target_output),\n",
    "        temperature=1,\n",
    "        pad_token_id=tokenizer.pad_token_id,\n",
    "    )\n",
    "    if len(out[0]) != len(target_output):\n",
    "        return False\n",
    "    return all(out[0] == target_output)"
   ]
  },
  {
   "cell_type": "code",
   "execution_count": null,
   "id": "0448d2e2",
   "metadata": {},
   "outputs": [],
   "source": [
    "list(range(10))"
   ]
  },
  {
   "cell_type": "code",
   "execution_count": null,
   "id": "7d1b0806-bc08-4c14-b5b1-0043a6007bc2",
   "metadata": {},
   "outputs": [],
   "source": [
    "task_steps_limit = 1\n",
    "\n",
    "trainer = ReasoningTrainer(\n",
    "    model=model,\n",
    "    tokenizer=tokenizer,\n",
    "    args=TrainingArguments(\n",
    "        disable_tqdm=True,  # This disables the progress bars\n",
    "        learning_rate=5e-4,\n",
    "        num_train_epochs=1,\n",
    "        per_device_train_batch_size=16,\n",
    "        gradient_accumulation_steps=1,\n",
    "        dataloader_num_workers=2,\n",
    "        optim=\"adamw_torch\",\n",
    "        output_dir=\"out\",\n",
    "        weight_decay=1e-2,\n",
    "    ),\n",
    ")\n",
    "trainer.answer_token = tokenizer.encode(\"\\n\")[0]\n",
    "# disable log printing\n",
    "trainer.log = lambda logs: None\n",
    "\n",
    "curriculum = Curriculum()\n",
    "total_examples = 0\n",
    "while True:\n",
    "    task_lenghts = curriculum.sample_indexes(128)\n",
    "    trainer.train_dataset = TasksDataset(tokenizer, task_lenghts)\n",
    "    total_examples += len(trainer.train_dataset)\n",
    "    trainer.train()\n",
    "\n",
    "    # for each steps length, check whether model answers correctly\n",
    "    task_steps_limit = len(curriculum.avg_scores)\n",
    "    task_lenghts = list(range(task_steps_limit))\n",
    "    eval_dataset = TasksDataset(tokenizer, task_lenghts)\n",
    "    scores = [evaluate_example(model, ex) for ex in eval_dataset]\n",
    "    unmasked, masked = scores[: len(scores) // 2], scores[len(scores) // 2 :]\n",
    "    curriculum.update_scores(masked)\n",
    "    print(\n",
    "        f\"{total_examples:9}  seq.len.: {task_steps_limit:3}  \"\n",
    "        + get_accuracy_bar(unmasked)\n",
    "        + get_accuracy_bar(masked)\n",
    "    )\n",
    "\n",
    "    if np.mean(scores) > 0.95:\n",
    "        # all answers were correct, so increase difficulty level\n",
    "        curriculum.increment_limit()"
   ]
  }
 ],
 "metadata": {
  "kernelspec": {
   "display_name": "Python 3 (ipykernel)",
   "language": "python",
   "name": "python3"
  },
  "language_info": {
   "codemirror_mode": {
    "name": "ipython",
    "version": 3
   },
   "file_extension": ".py",
   "mimetype": "text/x-python",
   "name": "python",
   "nbconvert_exporter": "python",
   "pygments_lexer": "ipython3",
   "version": "3.8.18"
  }
 },
 "nbformat": 4,
 "nbformat_minor": 5
}
