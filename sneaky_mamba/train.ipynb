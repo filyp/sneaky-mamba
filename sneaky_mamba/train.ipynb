{
 "cells": [
  {
   "cell_type": "code",
   "execution_count": null,
   "id": "9d087532-93fd-4166-b8f1-9c4353c6185a",
   "metadata": {},
   "outputs": [],
   "source": [
    "import argparse\n",
    "import time\n",
    "import json\n",
    "import os\n",
    "\n",
    "import torch\n",
    "import torch.nn.functional as F\n",
    "\n",
    "from einops import rearrange\n",
    "\n",
    "from transformers import AutoTokenizer, AutoModelForCausalLM\n",
    "\n",
    "from mamba_ssm.models.mixer_seq_simple import MambaLMHeadModel\n",
    "from torch.utils.data import Dataset\n",
    "\n",
    "from transformers import AutoTokenizer, TrainingArguments\n",
    "from transformers import Trainer\n",
    "\n",
    "from generation import generate_task"
   ]
  },
  {
   "cell_type": "code",
   "execution_count": null,
   "id": "d102befc-aaec-49b3-bf86-911f96e84e39",
   "metadata": {},
   "outputs": [],
   "source": [
    "device = \"cuda\"\n",
    "genlen = 100\n",
    "os.environ[\"TOKENIZERS_PARALLELISM\"] = \"true\"\n",
    "\n",
    "tokenizer = AutoTokenizer.from_pretrained(\"EleutherAI/gpt-neox-20b\")\n",
    "tokenizer.pad_token = tokenizer.eos_token\n",
    "# tokenizer.pad_token = \"fin\"\n",
    "\n",
    "\n",
    "model = MambaLMHeadModel.from_pretrained(\"state-spaces/mamba-130m\", device=device, dtype=torch.float16)"
   ]
  },
  {
   "cell_type": "code",
   "execution_count": null,
   "id": "415938a6-418c-47d9-b58e-554b4765f4e4",
   "metadata": {},
   "outputs": [],
   "source": [
    "class MambaTrainer(Trainer):\n",
    "    def compute_loss(self, model, inputs, return_outputs=False):\n",
    "        input_ids = inputs.pop(\"input_ids\")\n",
    "        lm_logits = model(input_ids).logits\n",
    "\n",
    "        labels = input_ids.to(lm_logits.device)\n",
    "        shift_logits = lm_logits[:, :-1, :].contiguous()\n",
    "        labels = labels[:, 1:].contiguous()\n",
    "\n",
    "        loss_fct = torch.nn.CrossEntropyLoss()\n",
    "        lm_loss = loss_fct(shift_logits.view(-1, shift_logits.size(-1)), labels.view(-1))\n",
    "\n",
    "        return lm_loss\n",
    "\n",
    "    def save_model(self, output_dir, _internal_call=None):\n",
    "        if not os.path.exists(output_dir):\n",
    "            os.makedirs(output_dir)\n",
    "            \n",
    "        torch.save(self.model.state_dict(), f\"{output_dir}/pytorch_model.bin\")\n",
    "        self.tokenizer.save_pretrained(output_dir)\n",
    "        \n",
    "        # https://huggingface.co/state-spaces/mamba-130m/blob/main/config.json\n",
    "        json_str = \"\"\"\n",
    "{\n",
    "    \"d_model\": 768,\n",
    "    \"n_layer\": 24,\n",
    "    \"vocab_size\": 50277,\n",
    "    \"ssm_cfg\": {},\n",
    "    \"rms_norm\": true,\n",
    "    \"residual_in_fp32\": true,\n",
    "    \"fused_add_norm\": true,\n",
    "    \"pad_vocab_size_multiple\": 8\n",
    "}\"\"\"\n",
    "        with open(f\"{output_dir}/config.json\", 'w') as f:\n",
    "            f.write(json_str)"
   ]
  },
  {
   "cell_type": "code",
   "execution_count": null,
   "id": "5ebb005c-1031-42c3-a739-4e4462a2f357",
   "metadata": {},
   "outputs": [],
   "source": [
    "class MyDataset(torch.utils.data.Dataset):\n",
    "    def __init__(self, num_examples, sequence_length):\n",
    "        texts = []\n",
    "        for _ in range(num_examples):\n",
    "            task, reasoning, _ = generate_task(sequence_length)\n",
    "            texts.append(f\"{task}\\nanswer\\n{reasoning}\")\n",
    "        \n",
    "        tokenized = tokenizer(texts, padding=True)\n",
    "\n",
    "        self.input_ids = tokenized\n",
    "        self.labels = tokenized\n",
    "\n",
    "    def __len__(self):\n",
    "        return len(self.input_ids)\n",
    "\n",
    "    def __getitem__(self, i):\n",
    "        return dict(input_ids=self.input_ids[i], labels=self.labels[i])\n",
    "  "
   ]
  },
  {
   "cell_type": "code",
   "execution_count": null,
   "id": "b549b451-5ad9-4b1b-a17a-95747c5b94e0",
   "metadata": {},
   "outputs": [],
   "source": [
    "train_dataset=MyDataset(num_examples=1000, sequence_length=10)\n",
    "eval_dataset=MyDataset(num_examples=1000, sequence_length=10)"
   ]
  },
  {
   "cell_type": "code",
   "execution_count": null,
   "id": "dc96c5b4-6aa7-427b-89a2-215b271f86d6",
   "metadata": {},
   "outputs": [],
   "source": [
    "!pip install accelerate -U"
   ]
  },
  {
   "cell_type": "code",
   "execution_count": null,
   "id": "2815cecb-8cd7-452a-8338-76fa6f6fdaf2",
   "metadata": {},
   "outputs": [],
   "source": [
    "import accelerate"
   ]
  },
  {
   "cell_type": "code",
   "execution_count": null,
   "id": "1bb2b9bf-d955-4dfb-ae97-d2a935003560",
   "metadata": {},
   "outputs": [],
   "source": [
    "\n",
    "trainer = MambaTrainer(\n",
    "    model=model,\n",
    "    train_dataset=train_dataset,\n",
    "    eval_dataset=eval_dataset,\n",
    "    tokenizer=tokenizer,\n",
    "    args=TrainingArguments(\n",
    "        learning_rate=5e-4,\n",
    "        num_train_epochs=2,\n",
    "        per_device_train_batch_size=8,\n",
    "        gradient_accumulation_steps=1,\n",
    "        optim=\"adamw_torch\",\n",
    "        output_dir=\"output\",\n",
    "        save_total_limit=2,\n",
    "        logging_steps=1,\n",
    "        save_steps=500,\n",
    "    ),\n",
    ")\n",
    "\n",
    "trainer.train()\n",
    "trainer.save_model(\"output\")"
   ]
  },
  {
   "cell_type": "code",
   "execution_count": null,
   "id": "3886e164-d1eb-48db-ab6d-9a35ee35b944",
   "metadata": {},
   "outputs": [],
   "source": [
    "prompt = \"1 +=3 +=4 +=1 mod5 +=3 +=1 *=3 +=1 +=1 mod5 +=3 +=3 mod2 +=2\\nanswer\\n\"\n",
    "# tokens = tokenizer(prompt, return_tensors=\"pt\")\n",
    "# input_ids = tokens.input_ids.to(device=device)\n",
    "# attn_mask = tokens.attention_mask.to(device=device)\n",
    "# out = model.generate(\n",
    "#     input_ids=input_ids,\n",
    "#     max_length=100,\n",
    "#     temperature=1,\n",
    "# )\n",
    "# prompt = \"the ultimate\"\n",
    "\n",
    "tokens = tokenizer(prompt, return_tensors=\"pt\")\n",
    "input_ids = tokens.input_ids.to(device=device)\n",
    "attn_mask = tokens.attention_mask.to(device=device)\n",
    "max_length = input_ids.shape[1] + genlen\n",
    "\n",
    "out = model.generate(\n",
    "    input_ids=input_ids,\n",
    "    max_length=max_length,\n",
    "    cg=True,\n",
    "    return_dict_in_generate=True,\n",
    "    output_scores=True,\n",
    "    enable_timing=False,\n",
    "    temperature=1,\n",
    "    top_k=1,\n",
    "    top_p=1,\n",
    "    min_p=0,\n",
    "    repetition_penalty=1,\n",
    ")\n",
    "text = tokenizer.batch_decode(out.sequences.tolist())\n",
    "print(text[0])"
   ]
  },
  {
   "cell_type": "code",
   "execution_count": null,
   "id": "f016820b-fa29-4818-8ac5-c20cd07745eb",
   "metadata": {},
   "outputs": [],
   "source": []
  }
 ],
 "metadata": {
  "kernelspec": {
   "display_name": "Python 3 (ipykernel)",
   "language": "python",
   "name": "python3"
  },
  "language_info": {
   "codemirror_mode": {
    "name": "ipython",
    "version": 3
   },
   "file_extension": ".py",
   "mimetype": "text/x-python",
   "name": "python",
   "nbconvert_exporter": "python",
   "pygments_lexer": "ipython3",
   "version": "3.8.18"
  }
 },
 "nbformat": 4,
 "nbformat_minor": 5
}
