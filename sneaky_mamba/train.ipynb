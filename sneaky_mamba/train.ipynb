{
 "cells": [
  {
   "cell_type": "code",
   "execution_count": null,
   "id": "9d087532-93fd-4166-b8f1-9c4353c6185a",
   "metadata": {},
   "outputs": [],
   "source": [
    "import argparse\n",
    "import time\n",
    "import json\n",
    "import os\n",
    "\n",
    "import torch\n",
    "import torch.nn.functional as F\n",
    "\n",
    "from einops import rearrange\n",
    "\n",
    "from transformers import AutoTokenizer, AutoModelForCausalLM\n",
    "\n",
    "from mamba_ssm.models.mixer_seq_simple import MambaLMHeadModel\n",
    "from torch.utils.data import Dataset\n",
    "\n",
    "from transformers import AutoTokenizer, TrainingArguments\n",
    "from transformers import Trainer\n",
    "\n",
    "from generation import generate_task"
   ]
  },
  {
   "cell_type": "code",
   "execution_count": null,
   "id": "d102befc-aaec-49b3-bf86-911f96e84e39",
   "metadata": {},
   "outputs": [],
   "source": [
    "device = \"cuda\"\n",
    "genlen = 100\n",
    "os.environ[\"TOKENIZERS_PARALLELISM\"] = \"true\"\n",
    "\n",
    "tokenizer = AutoTokenizer.from_pretrained(\"EleutherAI/gpt-neox-20b\")\n",
    "model = MambaLMHeadModel.from_pretrained(\"state-spaces/mamba-130m\", device=device, dtype=torch.float16)"
   ]
  },
  {
   "cell_type": "code",
   "execution_count": null,
   "id": "b7de54c3-85ce-4be1-8cbd-6748509daf15",
   "metadata": {},
   "outputs": [],
   "source": [
    "tokenizer.encode(\"5 +5 *5 mod5 5 mod5\")"
   ]
  },
  {
   "cell_type": "code",
   "execution_count": null,
   "id": "2cfe3e45-15a5-4b55-a24c-af58e2b0a697",
   "metadata": {},
   "outputs": [],
   "source": [
    "prompt = \"the ultimate\"\n",
    "\n",
    "tokens = tokenizer(prompt, return_tensors=\"pt\")\n",
    "input_ids = tokens.input_ids.to(device=device)\n",
    "attn_mask = tokens.attention_mask.to(device=device)\n",
    "max_length = input_ids.shape[1] + genlen"
   ]
  },
  {
   "cell_type": "code",
   "execution_count": null,
   "id": "10ebac22-9848-4c47-ae57-4900214b8ce7",
   "metadata": {},
   "outputs": [],
   "source": [
    "out = model.generate(\n",
    "    # **model_inputs,\n",
    "    input_ids=input_ids,\n",
    "    max_length=max_length,\n",
    "    cg=True,\n",
    "    return_dict_in_generate=True,\n",
    "    output_scores=True,\n",
    "    enable_timing=False,\n",
    "    temperature=1,\n",
    "    top_k=1,\n",
    "    top_p=1,\n",
    "    min_p=0,\n",
    "    repetition_penalty=1,\n",
    ")"
   ]
  },
  {
   "cell_type": "code",
   "execution_count": null,
   "id": "c93a08eb-0316-4737-ae16-729a9706ee39",
   "metadata": {},
   "outputs": [],
   "source": [
    "text = tokenizer.batch_decode(out.sequences.tolist())\n",
    "text[0]"
   ]
  },
  {
   "cell_type": "code",
   "execution_count": null,
   "id": "6b686dd8-3bf4-44a6-a1e2-55fdac068acf",
   "metadata": {},
   "outputs": [],
   "source": []
  },
  {
   "cell_type": "code",
   "execution_count": null,
   "id": "415938a6-418c-47d9-b58e-554b4765f4e4",
   "metadata": {},
   "outputs": [],
   "source": [
    "class MambaTrainer(Trainer):\n",
    "    def compute_loss(self, model, inputs, return_outputs=False):\n",
    "        input_ids = inputs.pop(\"input_ids\")\n",
    "        lm_logits = model(input_ids).logits\n",
    "\n",
    "        labels = input_ids.to(lm_logits.device)\n",
    "        shift_logits = lm_logits[:, :-1, :].contiguous()\n",
    "        labels = labels[:, 1:].contiguous()\n",
    "\n",
    "        loss_fct = torch.nn.CrossEntropyLoss()\n",
    "        lm_loss = loss_fct(shift_logits.view(-1, shift_logits.size(-1)), labels.view(-1))\n",
    "\n",
    "        return lm_loss\n",
    "\n",
    "    def save_model(self, output_dir, _internal_call=None):\n",
    "        if not os.path.exists(output_dir):\n",
    "            os.makedirs(output_dir)\n",
    "            \n",
    "        torch.save(self.model.state_dict(), f\"{output_dir}/pytorch_model.bin\")\n",
    "        self.tokenizer.save_pretrained(output_dir)\n",
    "        \n",
    "        # https://huggingface.co/state-spaces/mamba-130m/blob/main/config.json\n",
    "        json_str = \"\"\"\n",
    "{\n",
    "    \"d_model\": 768,\n",
    "    \"n_layer\": 24,\n",
    "    \"vocab_size\": 50277,\n",
    "    \"ssm_cfg\": {},\n",
    "    \"rms_norm\": true,\n",
    "    \"residual_in_fp32\": true,\n",
    "    \"fused_add_norm\": true,\n",
    "    \"pad_vocab_size_multiple\": 8\n",
    "}\"\"\"\n",
    "        with open(f\"{output_dir}/config.json\", 'w') as f:\n",
    "            f.write(json_str)"
   ]
  },
  {
   "cell_type": "code",
   "execution_count": null,
   "id": "1f1203a6-e53f-4e86-9866-7193678f51bb",
   "metadata": {},
   "outputs": [],
   "source": [
    "num_examples = 1000\n",
    "texts = []\n",
    "for _ in range(num_examples):\n",
    "    task, reasoning, _ = generate_task(5)\n",
    "    text = f\"{task}\\nanswer\\n{reasoning}\"\n",
    "    print(text)\n",
    "    texts.append(text)\n",
    "    break"
   ]
  },
  {
   "cell_type": "code",
   "execution_count": null,
   "id": "1bb2b9bf-d955-4dfb-ae97-d2a935003560",
   "metadata": {},
   "outputs": [],
   "source": [
    "tokenizer.eos_token = \"<|endoftext|>\"\n",
    "tokenizer.pad_token = tokenizer.eos_token\n",
    "\n",
    "data_module = SFTDataModule(\n",
    "    tokenizer=tokenizer,\n",
    "    data_path=args.data_path,\n",
    ")\n",
    "\n",
    "trainer = MambaTrainer(\n",
    "    model=model,\n",
    "    train_dataset=data_module.dataset,\n",
    "    tokenizer=tokenizer,\n",
    "    args=TrainingArguments(\n",
    "        learning_rate=5e-4,\n",
    "        num_train_epochs=10,\n",
    "        per_device_train_batch_size=8,\n",
    "        gradient_accumulation_steps=1,\n",
    "        optim=\"adamw_torch\",\n",
    "        output_dir=\"output\",\n",
    "        save_total_limit=2,\n",
    "        logging_steps=50,\n",
    "        save_steps=500,\n",
    "    ),\n",
    "    data_collator=data_module.data_collator,\n",
    ")\n",
    "\n",
    "trainer.train()\n",
    "trainer.save_model(args.output)"
   ]
  }
 ],
 "metadata": {
  "kernelspec": {
   "display_name": "Python 3 (ipykernel)",
   "language": "python",
   "name": "python3"
  },
  "language_info": {
   "codemirror_mode": {
    "name": "ipython",
    "version": 3
   },
   "file_extension": ".py",
   "mimetype": "text/x-python",
   "name": "python",
   "nbconvert_exporter": "python",
   "pygments_lexer": "ipython3",
   "version": "3.8.18"
  }
 },
 "nbformat": 4,
 "nbformat_minor": 5
}
