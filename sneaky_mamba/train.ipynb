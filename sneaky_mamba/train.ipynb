{
 "cells": [
  {
   "cell_type": "code",
   "execution_count": 1,
   "id": "ea2eb5e3-df51-42f6-98c2-e4a016e443b5",
   "metadata": {},
   "outputs": [
    {
     "ename": "ModuleNotFoundError",
     "evalue": "No module named 'torch'",
     "output_type": "error",
     "traceback": [
      "\u001b[0;31m---------------------------------------------------------------------------\u001b[0m",
      "\u001b[0;31mModuleNotFoundError\u001b[0m                       Traceback (most recent call last)",
      "\u001b[1;32m/home/filip/projects/sneaky-mamba/sneaky_mamba/train.ipynb Cell 1\u001b[0m line \u001b[0;36m1\n\u001b[0;32m----> <a href='vscode-notebook-cell:/home/filip/projects/sneaky-mamba/sneaky_mamba/train.ipynb#X34sZmlsZQ%3D%3D?line=0'>1</a>\u001b[0m \u001b[39mimport\u001b[39;00m \u001b[39mtorch\u001b[39;00m\n\u001b[1;32m      <a href='vscode-notebook-cell:/home/filip/projects/sneaky-mamba/sneaky_mamba/train.ipynb#X34sZmlsZQ%3D%3D?line=1'>2</a>\u001b[0m \u001b[39mimport\u001b[39;00m \u001b[39mos\u001b[39;00m\n\u001b[1;32m      <a href='vscode-notebook-cell:/home/filip/projects/sneaky-mamba/sneaky_mamba/train.ipynb#X34sZmlsZQ%3D%3D?line=2'>3</a>\u001b[0m \u001b[39mimport\u001b[39;00m \u001b[39mtorch\u001b[39;00m\n",
      "\u001b[0;31mModuleNotFoundError\u001b[0m: No module named 'torch'"
     ]
    }
   ],
   "source": [
    "import torch\n",
    "import os\n",
    "import torch\n",
    "from mamba_ssm.models.mixer_seq_simple import MambaLMHeadModel\n",
    "from transformers import AutoTokenizer, TrainingArguments, TrainerCallback, Trainer\n",
    "from transformers import DataCollatorForLanguageModeling\n",
    "\n",
    "from generation import generate_task, mask_all_values\n",
    "\n",
    "os.environ[\"TOKENIZERS_PARALLELISM\"] = \"true\"\n",
    "answer_token = 31984\n",
    "\n",
    "model = MambaLMHeadModel.from_pretrained(\"state-spaces/mamba-130m\", dtype=torch.bfloat16, device=\"cuda\")\n",
    "tokenizer = AutoTokenizer.from_pretrained(\"EleutherAI/gpt-neox-20b\")\n",
    "tokenizer.eos_token = \"<|endoftext|>\"\n",
    "tokenizer.pad_token = tokenizer.eos_token\n",
    "# data_collator = DataCollatorForLanguageModeling(tokenizer=tokenizer, mlm=False)"
   ]
  },
  {
   "cell_type": "code",
   "execution_count": 2,
   "metadata": {},
   "outputs": [],
   "source": [
    "# use only the first 8 layers out of 24\n",
    "model._modules[\"backbone\"].layers = model._modules[\"backbone\"].layers[:8]"
   ]
  },
  {
   "cell_type": "code",
   "execution_count": 3,
   "id": "ce7d4832",
   "metadata": {},
   "outputs": [
    {
     "ename": "NameError",
     "evalue": "name 'Trainer' is not defined",
     "output_type": "error",
     "traceback": [
      "\u001b[0;31m---------------------------------------------------------------------------\u001b[0m",
      "\u001b[0;31mNameError\u001b[0m                                 Traceback (most recent call last)",
      "\u001b[1;32m/home/filip/projects/sneaky-mamba/sneaky_mamba/train.ipynb Cell 3\u001b[0m line \u001b[0;36m1\n\u001b[0;32m----> <a href='vscode-notebook-cell:/home/filip/projects/sneaky-mamba/sneaky_mamba/train.ipynb#X40sZmlsZQ%3D%3D?line=0'>1</a>\u001b[0m \u001b[39mclass\u001b[39;00m \u001b[39mMambaTrainer\u001b[39;00m(Trainer):\n\u001b[1;32m      <a href='vscode-notebook-cell:/home/filip/projects/sneaky-mamba/sneaky_mamba/train.ipynb#X40sZmlsZQ%3D%3D?line=1'>2</a>\u001b[0m     \u001b[39mdef\u001b[39;00m \u001b[39mcompute_loss\u001b[39m(\u001b[39mself\u001b[39m, model, inputs, return_outputs\u001b[39m=\u001b[39m\u001b[39mFalse\u001b[39;00m):\n\u001b[1;32m      <a href='vscode-notebook-cell:/home/filip/projects/sneaky-mamba/sneaky_mamba/train.ipynb#X40sZmlsZQ%3D%3D?line=2'>3</a>\u001b[0m         input_ids \u001b[39m=\u001b[39m inputs\u001b[39m.\u001b[39mpop(\u001b[39m\"\u001b[39m\u001b[39minput_ids\u001b[39m\u001b[39m\"\u001b[39m)\n",
      "\u001b[0;31mNameError\u001b[0m: name 'Trainer' is not defined"
     ]
    }
   ],
   "source": [
    "class MambaTrainer(Trainer):\n",
    "    def compute_loss(self, model, inputs, return_outputs=False):\n",
    "        input_ids = inputs.pop(\"input_ids\")\n",
    "\n",
    "        # batched generation\n",
    "        lm_logits = model(input_ids).logits\n",
    "\n",
    "        labels = input_ids.to(lm_logits.device)\n",
    "        shift_logits = lm_logits[:, :-1, :].contiguous()\n",
    "        labels = labels[:, 1:].contiguous()\n",
    "\n",
    "        # cut out the task part (the part before \"answer\")\n",
    "        reasoning_shift_logits = []\n",
    "        reasoning_labels = []\n",
    "        final_answer_shift_logits = []\n",
    "        final_answer_labels = []\n",
    "        for ex_shift_logits, ex_labels in zip(shift_logits, labels):\n",
    "            # find the indexes of the \"answer\" token\n",
    "            answer_index = torch.where(ex_labels == answer_token)[0]\n",
    "            answer_index = int(answer_index)\n",
    "            # cut out the task part\n",
    "            reasoning_shift_logits.append(ex_shift_logits[answer_index:-1])\n",
    "            reasoning_labels.append(ex_labels[answer_index:-1])\n",
    "            # loss for the final answer will be calculated separately\n",
    "            final_answer_shift_logits.append(ex_shift_logits[-1:])\n",
    "            final_answer_labels.append(ex_labels[-1:])\n",
    "\n",
    "        # calculate loss only for the tokens after \"answer\"\n",
    "        loss_fct = torch.nn.CrossEntropyLoss()\n",
    "        reasoning_lm_loss = loss_fct(\n",
    "            torch.cat(reasoning_shift_logits),\n",
    "            torch.cat(reasoning_labels),\n",
    "        )\n",
    "        loss_fct = torch.nn.CrossEntropyLoss()\n",
    "        final_answer_lm_loss = loss_fct(\n",
    "            torch.cat(final_answer_shift_logits),\n",
    "            torch.cat(final_answer_labels),\n",
    "        )\n",
    "        return reasoning_lm_loss + final_answer_lm_loss\n",
    "\n",
    "    def save_model(self, output_dir, _internal_call):\n",
    "        if not os.path.exists(output_dir):\n",
    "            os.makedirs(output_dir)\n",
    "            \n",
    "        torch.save(self.model.state_dict(), f\"{output_dir}/pytorch_model.bin\")\n",
    "        self.tokenizer.save_pretrained(output_dir)\n",
    "\n",
    "    # def log(self, logs):\n",
    "    #     pass  # Override to do nothing and avoid printing logs"
   ]
  },
  {
   "cell_type": "code",
   "execution_count": 4,
   "id": "aa24fe70",
   "metadata": {},
   "outputs": [
    {
     "ename": "NameError",
     "evalue": "name 'torch' is not defined",
     "output_type": "error",
     "traceback": [
      "\u001b[0;31m---------------------------------------------------------------------------\u001b[0m",
      "\u001b[0;31mNameError\u001b[0m                                 Traceback (most recent call last)",
      "\u001b[1;32m/home/filip/projects/sneaky-mamba/sneaky_mamba/train.ipynb Cell 4\u001b[0m line \u001b[0;36m1\n\u001b[0;32m----> <a href='vscode-notebook-cell:/home/filip/projects/sneaky-mamba/sneaky_mamba/train.ipynb#X41sZmlsZQ%3D%3D?line=0'>1</a>\u001b[0m \u001b[39mclass\u001b[39;00m \u001b[39mMyDataset\u001b[39;00m(torch\u001b[39m.\u001b[39mutils\u001b[39m.\u001b[39mdata\u001b[39m.\u001b[39mDataset):\n\u001b[1;32m      <a href='vscode-notebook-cell:/home/filip/projects/sneaky-mamba/sneaky_mamba/train.ipynb#X41sZmlsZQ%3D%3D?line=1'>2</a>\u001b[0m     \u001b[39mdef\u001b[39;00m \u001b[39m__init__\u001b[39m(\u001b[39mself\u001b[39m, mask, num_examples_per_num_steps):\n\u001b[1;32m      <a href='vscode-notebook-cell:/home/filip/projects/sneaky-mamba/sneaky_mamba/train.ipynb#X41sZmlsZQ%3D%3D?line=2'>3</a>\u001b[0m \u001b[39m        \u001b[39m\u001b[39m\"\"\"\u001b[39;00m\n\u001b[1;32m      <a href='vscode-notebook-cell:/home/filip/projects/sneaky-mamba/sneaky_mamba/train.ipynb#X41sZmlsZQ%3D%3D?line=3'>4</a>\u001b[0m \u001b[39m        num_examples_per_num_steps: list of tuples (num_steps, num_examples)\u001b[39;00m\n\u001b[1;32m      <a href='vscode-notebook-cell:/home/filip/projects/sneaky-mamba/sneaky_mamba/train.ipynb#X41sZmlsZQ%3D%3D?line=4'>5</a>\u001b[0m \u001b[39m        \"\"\"\u001b[39;00m\n",
      "\u001b[0;31mNameError\u001b[0m: name 'torch' is not defined"
     ]
    }
   ],
   "source": [
    "class MyDataset(torch.utils.data.Dataset):\n",
    "    def __init__(self, mask, num_examples_per_num_steps):\n",
    "        \"\"\"\n",
    "        num_examples_per_num_steps: list of tuples (num_steps, num_examples)\n",
    "        \"\"\"\n",
    "        texts = []\n",
    "        for num_steps, num_examples in num_examples_per_num_steps:\n",
    "            for _ in range(num_examples):\n",
    "                task, reasoning = generate_task(num_steps)\n",
    "                if mask:\n",
    "                    mask_all_values(reasoning)\n",
    "                texts.append(f\"{task}\\nanswer\\n{reasoning}\")\n",
    "        \n",
    "        tokenized = tokenizer(texts, padding=True)[\"input_ids\"]\n",
    "        self.input_ids = [torch.LongTensor(tok) for tok in tokenized]\n",
    "        # max_num_steps = max([num_steps for num_steps, _ in num_examples_per_num_steps])\n",
    "\n",
    "    def __len__(self):\n",
    "        return len(self.input_ids)\n",
    "\n",
    "    def __getitem__(self, i):\n",
    "        return dict(input_ids=self.input_ids[i])"
   ]
  },
  {
   "cell_type": "code",
   "execution_count": 51,
   "id": "57ec702a",
   "metadata": {},
   "outputs": [],
   "source": [
    "def get_completion_from_model(example_input_ids):\n",
    "    task, _ = tokenizer.decode(example_input_ids).split(\"answer\")\n",
    "    task += \"answer\"\n",
    "    task_tokens = tokenizer(task, return_tensors=\"pt\")\n",
    "\n",
    "    out = model.generate(\n",
    "        input_ids=task_tokens.input_ids.to(device=\"cuda\"),\n",
    "        max_length=len(example_input_ids),\n",
    "        cg=True,\n",
    "        temperature=1,\n",
    "    )\n",
    "    return out[0]"
   ]
  },
  {
   "cell_type": "code",
   "execution_count": 55,
   "metadata": {},
   "outputs": [
    {
     "data": {
      "text/plain": [
       "'1 +=3 mod5 +=3 +=2 mod2 *=2 +=3 +=2 mod2 mod5 mod5 *=2 +=3 +=4 mod2 *=2 *=3 +=1 +=1 mod5 mod2 +=1 +=3 +=1 +=2 mod5 mod2 *=2 +=2 +=3 +=2 mod2 mod2 mod2 +=3 *=2 mod5 +=2 +=3 mod5 mod2 +=2 +=1 +=3 +=1 mod5 +=4 +=1 mod5 *=2 mod5 +=2 *=2 mod5 mod5 *=2 *=3 +=1 mod2\\nanswer'"
      ]
     },
     "execution_count": 55,
     "metadata": {},
     "output_type": "execute_result"
    }
   ],
   "source": [
    "example_input_ids = ex[\"input_ids\"]\n",
    "task, _ = tokenizer.decode(example_input_ids).split(\"answer\")\n",
    "task += \"answer\"\n",
    "task\n",
    "# task_tokens = tokenizer(task, return_tensors=\"pt\")\n",
    "# task_tokens"
   ]
  },
  {
   "cell_type": "code",
   "execution_count": null,
   "metadata": {},
   "outputs": [],
   "source": [
    "\n",
    "\n",
    "def eval_correctness(dataset):\n",
    "    all_input_ids = dataset[:][\"input_ids\"]\n",
    "    # maybe todo: parallelize\n",
    "    is_corrects = []\n",
    "    for full_input_ids in all_input_ids:\n",
    "\n",
    "        is_correct = model_reasoning.strip() == target_reasoning.strip()\n",
    "        is_corrects.append(is_correct)\n",
    "\n",
    "    perc_correct = sum(is_corrects) / len(is_corrects)\n",
    "    return perc_correct"
   ]
  },
  {
   "cell_type": "code",
   "execution_count": 41,
   "id": "7d1b0806-bc08-4c14-b5b1-0043a6007bc2",
   "metadata": {},
   "outputs": [
    {
     "name": "stderr",
     "output_type": "stream",
     "text": [
      "Detected kernel version 5.4.0, which is below the recommended minimum of 5.5.0; this can cause the process to hang. It is recommended to upgrade the kernel to the minimum version or higher.\n"
     ]
    },
    {
     "ename": "KeyboardInterrupt",
     "evalue": "",
     "output_type": "error",
     "traceback": [
      "\u001b[0;31m---------------------------------------------------------------------------\u001b[0m",
      "\u001b[0;31mKeyboardInterrupt\u001b[0m                         Traceback (most recent call last)",
      "\u001b[1;32m/workspace/sneaky-mamba/sneaky_mamba/train.ipynb Cell 9\u001b[0m line \u001b[0;36m2\n\u001b[1;32m     <a href='vscode-notebook-cell://ssh-remote%2B194.26.196.143/workspace/sneaky-mamba/sneaky_mamba/train.ipynb#W4sdnNjb2RlLXJlbW90ZQ%3D%3D?line=24'>25</a>\u001b[0m train_dataset\u001b[39m=\u001b[39mMyDataset(num_examples\u001b[39m=\u001b[39mexamples_per_epoch, sequence_length\u001b[39m=\u001b[39msequence_length, mask\u001b[39m=\u001b[39mmask)\n\u001b[1;32m     <a href='vscode-notebook-cell://ssh-remote%2B194.26.196.143/workspace/sneaky-mamba/sneaky_mamba/train.ipynb#W4sdnNjb2RlLXJlbW90ZQ%3D%3D?line=26'>27</a>\u001b[0m trainer\u001b[39m.\u001b[39mtrain_dataset \u001b[39m=\u001b[39m train_dataset\n\u001b[0;32m---> <a href='vscode-notebook-cell://ssh-remote%2B194.26.196.143/workspace/sneaky-mamba/sneaky_mamba/train.ipynb#W4sdnNjb2RlLXJlbW90ZQ%3D%3D?line=27'>28</a>\u001b[0m trainer\u001b[39m.\u001b[39;49mtrain()\n\u001b[1;32m     <a href='vscode-notebook-cell://ssh-remote%2B194.26.196.143/workspace/sneaky-mamba/sneaky_mamba/train.ipynb#W4sdnNjb2RlLXJlbW90ZQ%3D%3D?line=29'>30</a>\u001b[0m eval_dataset\u001b[39m=\u001b[39mMyDataset(num_examples\u001b[39m=\u001b[39m\u001b[39m25\u001b[39m, sequence_length\u001b[39m=\u001b[39msequence_length, mask\u001b[39m=\u001b[39mmask)\n\u001b[1;32m     <a href='vscode-notebook-cell://ssh-remote%2B194.26.196.143/workspace/sneaky-mamba/sneaky_mamba/train.ipynb#W4sdnNjb2RlLXJlbW90ZQ%3D%3D?line=30'>31</a>\u001b[0m perc_correct \u001b[39m=\u001b[39m eval_correctness(eval_dataset)\n",
      "File \u001b[0;32m/usr/local/lib/python3.8/dist-packages/transformers/trainer.py:1539\u001b[0m, in \u001b[0;36mTrainer.train\u001b[0;34m(self, resume_from_checkpoint, trial, ignore_keys_for_eval, **kwargs)\u001b[0m\n\u001b[1;32m   1537\u001b[0m         hf_hub_utils\u001b[39m.\u001b[39menable_progress_bars()\n\u001b[1;32m   1538\u001b[0m \u001b[39melse\u001b[39;00m:\n\u001b[0;32m-> 1539\u001b[0m     \u001b[39mreturn\u001b[39;00m inner_training_loop(\n\u001b[1;32m   1540\u001b[0m         args\u001b[39m=\u001b[39;49margs,\n\u001b[1;32m   1541\u001b[0m         resume_from_checkpoint\u001b[39m=\u001b[39;49mresume_from_checkpoint,\n\u001b[1;32m   1542\u001b[0m         trial\u001b[39m=\u001b[39;49mtrial,\n\u001b[1;32m   1543\u001b[0m         ignore_keys_for_eval\u001b[39m=\u001b[39;49mignore_keys_for_eval,\n\u001b[1;32m   1544\u001b[0m     )\n",
      "File \u001b[0;32m/usr/local/lib/python3.8/dist-packages/transformers/trainer.py:1869\u001b[0m, in \u001b[0;36mTrainer._inner_training_loop\u001b[0;34m(self, batch_size, args, resume_from_checkpoint, trial, ignore_keys_for_eval)\u001b[0m\n\u001b[1;32m   1866\u001b[0m     \u001b[39mself\u001b[39m\u001b[39m.\u001b[39mcontrol \u001b[39m=\u001b[39m \u001b[39mself\u001b[39m\u001b[39m.\u001b[39mcallback_handler\u001b[39m.\u001b[39mon_step_begin(args, \u001b[39mself\u001b[39m\u001b[39m.\u001b[39mstate, \u001b[39mself\u001b[39m\u001b[39m.\u001b[39mcontrol)\n\u001b[1;32m   1868\u001b[0m \u001b[39mwith\u001b[39;00m \u001b[39mself\u001b[39m\u001b[39m.\u001b[39maccelerator\u001b[39m.\u001b[39maccumulate(model):\n\u001b[0;32m-> 1869\u001b[0m     tr_loss_step \u001b[39m=\u001b[39m \u001b[39mself\u001b[39;49m\u001b[39m.\u001b[39;49mtraining_step(model, inputs)\n\u001b[1;32m   1871\u001b[0m \u001b[39mif\u001b[39;00m (\n\u001b[1;32m   1872\u001b[0m     args\u001b[39m.\u001b[39mlogging_nan_inf_filter\n\u001b[1;32m   1873\u001b[0m     \u001b[39mand\u001b[39;00m \u001b[39mnot\u001b[39;00m is_torch_tpu_available()\n\u001b[1;32m   1874\u001b[0m     \u001b[39mand\u001b[39;00m (torch\u001b[39m.\u001b[39misnan(tr_loss_step) \u001b[39mor\u001b[39;00m torch\u001b[39m.\u001b[39misinf(tr_loss_step))\n\u001b[1;32m   1875\u001b[0m ):\n\u001b[1;32m   1876\u001b[0m     \u001b[39m# if loss is nan or inf simply add the average of previous logged losses\u001b[39;00m\n\u001b[1;32m   1877\u001b[0m     tr_loss \u001b[39m+\u001b[39m\u001b[39m=\u001b[39m tr_loss \u001b[39m/\u001b[39m (\u001b[39m1\u001b[39m \u001b[39m+\u001b[39m \u001b[39mself\u001b[39m\u001b[39m.\u001b[39mstate\u001b[39m.\u001b[39mglobal_step \u001b[39m-\u001b[39m \u001b[39mself\u001b[39m\u001b[39m.\u001b[39m_globalstep_last_logged)\n",
      "File \u001b[0;32m/usr/local/lib/python3.8/dist-packages/transformers/trainer.py:2781\u001b[0m, in \u001b[0;36mTrainer.training_step\u001b[0;34m(self, model, inputs)\u001b[0m\n\u001b[1;32m   2779\u001b[0m         scaled_loss\u001b[39m.\u001b[39mbackward()\n\u001b[1;32m   2780\u001b[0m \u001b[39melse\u001b[39;00m:\n\u001b[0;32m-> 2781\u001b[0m     \u001b[39mself\u001b[39;49m\u001b[39m.\u001b[39;49maccelerator\u001b[39m.\u001b[39;49mbackward(loss)\n\u001b[1;32m   2783\u001b[0m \u001b[39mreturn\u001b[39;00m loss\u001b[39m.\u001b[39mdetach() \u001b[39m/\u001b[39m \u001b[39mself\u001b[39m\u001b[39m.\u001b[39margs\u001b[39m.\u001b[39mgradient_accumulation_steps\n",
      "File \u001b[0;32m/usr/local/lib/python3.8/dist-packages/accelerate/accelerator.py:1964\u001b[0m, in \u001b[0;36mAccelerator.backward\u001b[0;34m(self, loss, **kwargs)\u001b[0m\n\u001b[1;32m   1962\u001b[0m     \u001b[39mself\u001b[39m\u001b[39m.\u001b[39mscaler\u001b[39m.\u001b[39mscale(loss)\u001b[39m.\u001b[39mbackward(\u001b[39m*\u001b[39m\u001b[39m*\u001b[39mkwargs)\n\u001b[1;32m   1963\u001b[0m \u001b[39melse\u001b[39;00m:\n\u001b[0;32m-> 1964\u001b[0m     loss\u001b[39m.\u001b[39;49mbackward(\u001b[39m*\u001b[39;49m\u001b[39m*\u001b[39;49mkwargs)\n",
      "File \u001b[0;32m/usr/local/lib/python3.8/dist-packages/torch/_tensor.py:488\u001b[0m, in \u001b[0;36mTensor.backward\u001b[0;34m(self, gradient, retain_graph, create_graph, inputs)\u001b[0m\n\u001b[1;32m    478\u001b[0m \u001b[39mif\u001b[39;00m has_torch_function_unary(\u001b[39mself\u001b[39m):\n\u001b[1;32m    479\u001b[0m     \u001b[39mreturn\u001b[39;00m handle_torch_function(\n\u001b[1;32m    480\u001b[0m         Tensor\u001b[39m.\u001b[39mbackward,\n\u001b[1;32m    481\u001b[0m         (\u001b[39mself\u001b[39m,),\n\u001b[0;32m   (...)\u001b[0m\n\u001b[1;32m    486\u001b[0m         inputs\u001b[39m=\u001b[39minputs,\n\u001b[1;32m    487\u001b[0m     )\n\u001b[0;32m--> 488\u001b[0m torch\u001b[39m.\u001b[39;49mautograd\u001b[39m.\u001b[39;49mbackward(\n\u001b[1;32m    489\u001b[0m     \u001b[39mself\u001b[39;49m, gradient, retain_graph, create_graph, inputs\u001b[39m=\u001b[39;49minputs\n\u001b[1;32m    490\u001b[0m )\n",
      "File \u001b[0;32m/usr/local/lib/python3.8/dist-packages/torch/autograd/__init__.py:197\u001b[0m, in \u001b[0;36mbackward\u001b[0;34m(tensors, grad_tensors, retain_graph, create_graph, grad_variables, inputs)\u001b[0m\n\u001b[1;32m    192\u001b[0m     retain_graph \u001b[39m=\u001b[39m create_graph\n\u001b[1;32m    194\u001b[0m \u001b[39m# The reason we repeat same the comment below is that\u001b[39;00m\n\u001b[1;32m    195\u001b[0m \u001b[39m# some Python versions print out the first line of a multi-line function\u001b[39;00m\n\u001b[1;32m    196\u001b[0m \u001b[39m# calls in the traceback and some print out the last line\u001b[39;00m\n\u001b[0;32m--> 197\u001b[0m Variable\u001b[39m.\u001b[39;49m_execution_engine\u001b[39m.\u001b[39;49mrun_backward(  \u001b[39m# Calls into the C++ engine to run the backward pass\u001b[39;49;00m\n\u001b[1;32m    198\u001b[0m     tensors, grad_tensors_, retain_graph, create_graph, inputs,\n\u001b[1;32m    199\u001b[0m     allow_unreachable\u001b[39m=\u001b[39;49m\u001b[39mTrue\u001b[39;49;00m, accumulate_grad\u001b[39m=\u001b[39;49m\u001b[39mTrue\u001b[39;49;00m)\n",
      "\u001b[0;31mKeyboardInterrupt\u001b[0m: "
     ]
    }
   ],
   "source": [
    "seq_length = 59\n",
    "mask = True\n",
    "\n",
    "trainer = MambaTrainer(\n",
    "    model=model,\n",
    "    tokenizer=tokenizer,\n",
    "    args=TrainingArguments(\n",
    "        disable_tqdm=True,  # This disables the progress bars\n",
    "        learning_rate=5e-4,\n",
    "        num_train_epochs=1,\n",
    "        per_device_train_batch_size=16,\n",
    "        gradient_accumulation_steps=1,\n",
    "        dataloader_num_workers=2,\n",
    "        optim=\"adamw_torch\",\n",
    "        output_dir=\"out\",\n",
    "        weight_decay=1e-2,\n",
    "        # logging_steps=10,\n",
    "        # save_strategy=\"epoch\"\n",
    "    ),\n",
    ")\n",
    "\n",
    "i = 1\n",
    "examples_per_epoch = 16 * 160\n",
    "while True:\n",
    "    train_dataset=MyDataset(num_examples=examples_per_epoch, sequence_length=seq_length, mask=mask)\n",
    "\n",
    "    trainer.train_dataset = train_dataset\n",
    "    trainer.train()\n",
    "\n",
    "    eval_dataset=MyDataset(num_examples=25, sequence_length=seq_length, mask=mask)\n",
    "    perc_correct = eval_correctness(eval_dataset)\n",
    "    num_correct = int(perc_correct * 25)\n",
    "    accuracy_bar = \"«\" + \"█\" * num_correct + \" \" * (25 - num_correct) + \"»\"\n",
    "    total_examples = i * examples_per_epoch\n",
    "    print(f\"{total_examples:9}  seq.len.: {seq_length:3}  \" + accuracy_bar)\n",
    "    i += 1\n",
    "\n",
    "    if perc_correct >= 0.95 and seq_length < 100:\n",
    "        seq_length += 1\n",
    "    # if i == 512:\n",
    "    #     break\n",
    "    # if sequence_length > 40:\n",
    "    #     break"
   ]
  },
  {
   "cell_type": "code",
   "execution_count": null,
   "metadata": {},
   "outputs": [],
   "source": []
  },
  {
   "cell_type": "code",
   "execution_count": 10,
   "metadata": {},
   "outputs": [
    {
     "name": "stdout",
     "output_type": "stream",
     "text": [
      "seq.len.:  55  «                                                  »\n",
      "seq.len.:  56  «                                                  »\n",
      "seq.len.:  57  «███████████                                       »\n",
      "seq.len.:  58  «███████████████████████████                       »\n",
      "seq.len.:  59  «███████████████████████████████████               »\n",
      "seq.len.:  60  «███████████████████████                           »\n",
      "seq.len.:  61  «                                                  »\n",
      "seq.len.:  62  «                                                  »\n"
     ]
    }
   ],
   "source": [
    "for seq_length in range(55, 63):\n",
    "    eval_dataset=MyDataset(num_examples=50, sequence_length=seq_length, mask=mask)\n",
    "    perc_correct = eval_correctness(eval_dataset[:50][\"input_ids\"])\n",
    "    num_correct = int(perc_correct * 50)\n",
    "    accuracy_bar = \"«\" + \"█\" * num_correct + \" \" * (50 - num_correct) + \"»\"\n",
    "    total_examples = i * examples_per_epoch\n",
    "    print(f\"seq.len.: {seq_length:3}  \" + accuracy_bar)"
   ]
  },
  {
   "cell_type": "code",
   "execution_count": 13,
   "metadata": {},
   "outputs": [
    {
     "name": "stdout",
     "output_type": "stream",
     "text": [
      "1 +=1 +=4 +=2 +=1 mod2 mod5 mod2 mod5 *=3 +=1 +=2 +=2 mod5 mod2 mod2 *=2 mod5 +=1 +=1 +=3 mod5 +=2 mod5 +=3 +=1 mod5 +=4 +=1 +=1 mod5 +=2 +=1 mod5 +=2 +=4 mod5 +=1 *=2 mod5 +=4 +=1 mod5 +=1 +=3 mod2 +=1 +=2 +=1 +=3 mod5 +=4 mod5 +=4 mod5 mod2 +=4 +=3 +=1 mod5 +=2 +=3 mod2\n",
      "answer\n",
      "1 +=1 0 +=4 0 +=2 0 +=1 0 mod2 0 mod5 0 mod2 0 mod5 0 *=3 0 +=1 0 +=2 0 +=2 0 mod5 0 mod2 0 mod2 0 *=2 0 mod5 0 +=1 0 +=1 0 +=3 0 mod5 0 +=2 0 mod5 0 +=3 0 +=1 0 mod5 0 +=4 0 +=1 0 +=1 0 mod5 0 +=2 0 +=1 0 mod5 0 +=2 0 +=4 0 mod5 0 +=1 0 *=2 0 mod5 0 +=4 0 +=1 0 mod5 0 +=1 0 +=3 0 mod2 0 +=1 0 +=2 0 +=1 0 +=3 0 mod5 0 +=4 0 mod5 0 mod2 0 +=4 0 +=4 0 mod5 0 +=2 0 +=3 0 mod2 1 1 += concess 0 d d d d d\n",
      "\n",
      "1 +=1 0 +=4 0 +=2 0 +=1 0 mod2 0 mod5 0 mod2 0 mod5 0 *=3 0 +=1 0 +=2 0 +=2 0 mod5 0 mod2 0 mod2 0 *=2 0 mod5 0 +=1 0 +=1 0 +=3 0 mod5 0 +=2 0 mod5 0 +=3 0 +=1 0 mod5 0 +=4 0 +=1 0 +=1 0 mod5 0 +=2 0 +=1 0 mod5 0 +=2 0 +=4 0 mod5 0 +=1 0 *=2 0 mod5 0 +=4 0 +=1 0 mod5 0 +=1 0 +=3 0 mod2 0 +=1 0 +=2 0 +=1 0 +=3 0 mod5 0 +=4 0 mod5 0 +=4 0 mod5 0 mod2 0 +=4 0 +=3 0 +=1 0 mod5 0 +=2 0 +=3 0 mod2 1\n"
     ]
    }
   ],
   "source": [
    "full_input_ids = eval_dataset[0][\"input_ids\"]\n",
    "task, target_reasoning = tokenizer.decode(full_input_ids).split(\"answer\")\n",
    "task += \"answer\"\n",
    "\n",
    "task_tokens = tokenizer(task, return_tensors=\"pt\")\n",
    "input_ids = task_tokens.input_ids.to(device=\"cuda\")\n",
    "# attn_mask = task_tokens.attention_mask.to(device=\"cuda\")\n",
    "max_length = len(full_input_ids)\n",
    "\n",
    "out = model.generate(\n",
    "    input_ids=input_ids,\n",
    "    max_length=max_length,\n",
    "    cg=True,\n",
    "    temperature=1,\n",
    ")\n",
    "text = tokenizer.decode(out[0])\n",
    "model_reasoning = text.split(\"answer\")[-1]\n",
    "# is_correct = model_reasoning.strip() == target_reasoning.strip()\n",
    "print(text)\n",
    "print(target_reasoning)\n",
    "\n"
   ]
  },
  {
   "cell_type": "code",
   "execution_count": null,
   "id": "64df2641",
   "metadata": {},
   "outputs": [],
   "source": [
    "eval_correctness(eval_dataset[:20][\"input_ids\"])"
   ]
  },
  {
   "cell_type": "code",
   "execution_count": 16,
   "metadata": {},
   "outputs": [],
   "source": [
    "# trainer.save_model(\"output\", None)"
   ]
  },
  {
   "cell_type": "code",
   "execution_count": null,
   "metadata": {},
   "outputs": [],
   "source": []
  },
  {
   "cell_type": "code",
   "execution_count": null,
   "metadata": {},
   "outputs": [],
   "source": []
  },
  {
   "cell_type": "code",
   "execution_count": null,
   "metadata": {},
   "outputs": [],
   "source": []
  },
  {
   "cell_type": "code",
   "execution_count": 28,
   "metadata": {},
   "outputs": [],
   "source": [
    "eval_dataset=MyDataset(num_examples=50, sequence_length=57, mask=True)"
   ]
  },
  {
   "cell_type": "code",
   "execution_count": 29,
   "metadata": {},
   "outputs": [
    {
     "data": {
      "text/plain": [
       "[tensor([   18,   771,    19,  7079,    21,  7079,    21,   771,    22, 38825,\n",
       "            19,   771,    22,  7079,    20,  7079,    20,   771,    19,  7079,\n",
       "            21,  7079,    21,   771,    19, 38825,    20,  7079,    18, 38825,\n",
       "            19,   771,    22, 38825,    20,   771,    22,  7079,    18,  7079,\n",
       "            19,  7079,    18,   771,    22,   771,    22,  7079,    20,  7079,\n",
       "            20,   771,    22,  7079,    18,   771,    19, 38825,    19,   771,\n",
       "            22,  7079,    21,  7079,    20,   771,    22,  7079,    19,   771,\n",
       "            22, 38825,    20,  7079,    20,   771,    22, 38825,    19,  7079,\n",
       "            21,  7079,    18,   771,    19,  7079,    19, 38825,    20,   771,\n",
       "            22,  7079,    20,  7079,    18,   771,    22,  7079,    19,  7079,\n",
       "            18,  7079,    18,  7079,    18,  7079,    18,   771,    19, 38825,\n",
       "            20,  7079,    20,  7079,    19,   187, 31984,   187,    18,   771,\n",
       "            19,   470,  7079,    21,   470,  7079,    21,   470,   771,    22,\n",
       "           470, 38825,    19,   470,   771,    22,   470,  7079,    20,   470,\n",
       "          7079,    20,   470,   771,    19,   470,  7079,    21,   470,  7079,\n",
       "            21,   470,   771,    19,   470, 38825,    20,   470,  7079,    18,\n",
       "           470, 38825,    19,   470,   771,    22,   470, 38825,    20,   470,\n",
       "           771,    22,   470,  7079,    18,   470,  7079,    19,   470,  7079,\n",
       "            18,   470,   771,    22,   470,   771,    22,   470,  7079,    20,\n",
       "           470,  7079,    20,   470,   771,    22,   470,  7079,    18,   470,\n",
       "           771,    19,   470, 38825,    19,   470,   771,    22,   470,  7079,\n",
       "            21,   470,  7079,    20,   470,   771,    22,   470,  7079,    19,\n",
       "           470,   771,    22,   470, 38825,    20,   470,  7079,    20,   470,\n",
       "           771,    22,   470, 38825,    19,   470,  7079,    21,   470,  7079,\n",
       "            18,   470,   771,    19,   470,  7079,    19,   470, 38825,    20,\n",
       "           470,   771,    22,   470,  7079,    20,   470,  7079,    18,   470,\n",
       "           771,    22,   470,  7079,    19,   470,  7079,    18,   470,  7079,\n",
       "            18,   470,  7079,    18,   470,  7079,    18,   470,   771,    19,\n",
       "           470, 38825,    20,   470,  7079,    20,   470,  7079,    19,   854]),\n",
       " tensor([   18,  7079,    18,  7079,    19,  7079,    21,   771,    22,  7079,\n",
       "            18,  7079,    20,   771,    19, 38825,    20,  7079,    20,  7079,\n",
       "            19,   771,    22,   771,    19, 38825,    19,  7079,    19,   771,\n",
       "            22,  7079,    21,   771,    22,   771,    22, 38825,    19,  7079,\n",
       "            19,   771,    22,  7079,    19,  7079,    18,  7079,    19,   771,\n",
       "            22, 38825,    20,   771,    22,  7079,    18,  7079,    20,   771,\n",
       "            22,   771,    22,   771,    19,  7079,    19,  7079,    21,   771,\n",
       "            19, 38825,    19,   771,    22,   771,    22, 38825,    19, 38825,\n",
       "            19,   771,    22, 38825,    19,  7079,    19,  7079,    18,   771,\n",
       "            22,  7079,    18,  7079,    19,   771,    19,  7079,    20,   771,\n",
       "            22,  7079,    19,  7079,    19,  7079,    18,   771,    19, 38825,\n",
       "            19,  7079,    18,  7079,    20,   187, 31984,   187,    18,  7079,\n",
       "            18,   470,  7079,    19,   470,  7079,    21,   470,   771,    22,\n",
       "           470,  7079,    18,   470,  7079,    20,   470,   771,    19,   470,\n",
       "         38825,    20,   470,  7079,    20,   470,  7079,    19,   470,   771,\n",
       "            22,   470,   771,    19,   470, 38825,    19,   470,  7079,    19,\n",
       "           470,   771,    22,   470,  7079,    21,   470,   771,    22,   470,\n",
       "           771,    22,   470, 38825,    19,   470,  7079,    19,   470,   771,\n",
       "            22,   470,  7079,    19,   470,  7079,    18,   470,  7079,    19,\n",
       "           470,   771,    22,   470, 38825,    20,   470,   771,    22,   470,\n",
       "          7079,    18,   470,  7079,    20,   470,   771,    22,   470,   771,\n",
       "            22,   470,   771,    19,   470,  7079,    19,   470,  7079,    21,\n",
       "           470,   771,    19,   470, 38825,    19,   470,   771,    22,   470,\n",
       "           771,    22,   470, 38825,    19,   470, 38825,    19,   470,   771,\n",
       "            22,   470, 38825,    19,   470,  7079,    19,   470,  7079,    18,\n",
       "           470,   771,    22,   470,  7079,    18,   470,  7079,    19,   470,\n",
       "           771,    19,   470,  7079,    20,   470,   771,    22,   470,  7079,\n",
       "            19,   470,  7079,    19,   470,  7079,    18,   470,   771,    19,\n",
       "           470, 38825,    19,   470,  7079,    18,   470,  7079,    20,   721]),\n",
       " tensor([   18,  7079,    18,  7079,    18, 38825,    19,   771,    22,  7079,\n",
       "            19,  7079,    20,  7079,    20,   771,    19,   771,    19,  7079,\n",
       "            20,  7079,    21,  7079,    18,   771,    22,  7079,    20,   771,\n",
       "            19,   771,    19,  7079,    21,  7079,    19,  7079,    18,  7079,\n",
       "            18,   771,    22,   771,    22, 38825,    19,   771,    22,   771,\n",
       "            22, 38825,    19,  7079,    18,  7079,    19,   771,    22, 38825,\n",
       "            19,  7079,    18,   771,    22,  7079,    19,  7079,    18,  7079,\n",
       "            19,   771,    22,  7079,    18,  7079,    19,   771,    22, 38825,\n",
       "            20,  7079,    20,   771,    22,  7079,    20,   771,    22,  7079,\n",
       "            21,  7079,    20,   771,    22, 38825,    19,  7079,    18,   771,\n",
       "            19,  7079,    21,  7079,    20,   771,    22,   771,    19,  7079,\n",
       "            18, 38825,    19,  7079,    21,   187, 31984,   187,    18,  7079,\n",
       "            18,   470,  7079,    18,   470, 38825,    19,   470,   771,    22,\n",
       "           470,  7079,    19,   470,  7079,    20,   470,  7079,    20,   470,\n",
       "           771,    19,   470,   771,    19,   470,  7079,    20,   470,  7079,\n",
       "            21,   470,  7079,    18,   470,   771,    22,   470,  7079,    20,\n",
       "           470,   771,    19,   470,   771,    19,   470,  7079,    21,   470,\n",
       "          7079,    19,   470,  7079,    18,   470,  7079,    18,   470,   771,\n",
       "            22,   470,   771,    22,   470, 38825,    19,   470,   771,    22,\n",
       "           470,   771,    22,   470, 38825,    19,   470,  7079,    18,   470,\n",
       "          7079,    19,   470,   771,    22,   470, 38825,    19,   470,  7079,\n",
       "            18,   470,   771,    22,   470,  7079,    19,   470,  7079,    18,\n",
       "           470,  7079,    19,   470,   771,    22,   470,  7079,    18,   470,\n",
       "          7079,    19,   470,   771,    22,   470, 38825,    20,   470,  7079,\n",
       "            20,   470,   771,    22,   470,  7079,    20,   470,   771,    22,\n",
       "           470,  7079,    21,   470,  7079,    20,   470,   771,    22,   470,\n",
       "         38825,    19,   470,  7079,    18,   470,   771,    19,   470,  7079,\n",
       "            21,   470,  7079,    20,   470,   771,    22,   470,   771,    19,\n",
       "           470,  7079,    18,   470, 38825,    19,   470,  7079,    21,   854]),\n",
       " tensor([   18,   771,    22,   771,    19, 38825,    19, 38825,    19,  7079,\n",
       "            19,  7079,    18,   771,    19, 38825,    19,  7079,    20,  7079,\n",
       "            18,  7079,    20,   771,    19,  7079,    19,  7079,    18,  7079,\n",
       "            18,  7079,    19,   771,    22,  7079,    18,  7079,    20,  7079,\n",
       "            19,  7079,    18,   771,    22,  7079,    20,   771,    22, 38825,\n",
       "            20,  7079,    18,  7079,    18,  7079,    18,   771,    22, 38825,\n",
       "            19,  7079,    18,   771,    19,   771,    19,  7079,    21,  7079,\n",
       "            20,  7079,    18,   771,    22,  7079,    20,  7079,    18,   771,\n",
       "            22,  7079,    20,   771,    22,  7079,    19,   771,    22,   771,\n",
       "            19, 38825,    19,  7079,    18,   771,    19, 38825,    19, 38825,\n",
       "            19,  7079,    19,   771,    22, 38825,    19, 38825,    20,  7079,\n",
       "            18,  7079,    19,   771,    22,   187, 31984,   187,    18,   771,\n",
       "            22,   470,   771,    19,   470, 38825,    19,   470, 38825,    19,\n",
       "           470,  7079,    19,   470,  7079,    18,   470,   771,    19,   470,\n",
       "         38825,    19,   470,  7079,    20,   470,  7079,    18,   470,  7079,\n",
       "            20,   470,   771,    19,   470,  7079,    19,   470,  7079,    18,\n",
       "           470,  7079,    18,   470,  7079,    19,   470,   771,    22,   470,\n",
       "          7079,    18,   470,  7079,    20,   470,  7079,    19,   470,  7079,\n",
       "            18,   470,   771,    22,   470,  7079,    20,   470,   771,    22,\n",
       "           470, 38825,    20,   470,  7079,    18,   470,  7079,    18,   470,\n",
       "          7079,    18,   470,   771,    22,   470, 38825,    19,   470,  7079,\n",
       "            18,   470,   771,    19,   470,   771,    19,   470,  7079,    21,\n",
       "           470,  7079,    20,   470,  7079,    18,   470,   771,    22,   470,\n",
       "          7079,    20,   470,  7079,    18,   470,   771,    22,   470,  7079,\n",
       "            20,   470,   771,    22,   470,  7079,    19,   470,   771,    22,\n",
       "           470,   771,    19,   470, 38825,    19,   470,  7079,    18,   470,\n",
       "           771,    19,   470, 38825,    19,   470, 38825,    19,   470,  7079,\n",
       "            19,   470,   771,    22,   470, 38825,    19,   470, 38825,    20,\n",
       "           470,  7079,    18,   470,  7079,    19,   470,   771,    22,   577])]"
      ]
     },
     "execution_count": 29,
     "metadata": {},
     "output_type": "execute_result"
    }
   ],
   "source": [
    "eval_dataset[0:4]\n",
    "trainer = MambaTrainer(\n",
    "    model=model,\n",
    "    tokenizer=tokenizer,\n",
    "    args=TrainingArguments(\n",
    "        disable_tqdm=True,  # This disables the progress bars\n",
    "        learning_rate=5e-4,\n",
    "        num_train_epochs=1,\n",
    "        per_device_train_batch_size=16,\n",
    "        gradient_accumulation_steps=1,\n",
    "        dataloader_num_workers=2,\n",
    "        optim=\"adamw_torch\",\n",
    "        output_dir=\"out\",\n",
    "        # logging_steps=10,\n",
    "        weight_decay=1e-2,\n",
    "        # save_strategy=\"epoch\"\n",
    "    ),\n",
    ")"
   ]
  }
 ],
 "metadata": {
  "kernelspec": {
   "display_name": "Python 3 (ipykernel)",
   "language": "python",
   "name": "python3"
  },
  "language_info": {
   "codemirror_mode": {
    "name": "ipython",
    "version": 3
   },
   "file_extension": ".py",
   "mimetype": "text/x-python",
   "name": "python",
   "nbconvert_exporter": "python",
   "pygments_lexer": "ipython3",
   "version": "3.11.6"
  }
 },
 "nbformat": 4,
 "nbformat_minor": 5
}
